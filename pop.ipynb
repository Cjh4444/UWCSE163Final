{
 "cells": [
  {
   "cell_type": "code",
   "execution_count": 1,
   "metadata": {},
   "outputs": [],
   "source": [
    "import pandas as pd\n",
    "import seaborn as sns\n",
    "import matplotlib.pyplot as plt"
   ]
  },
  {
   "cell_type": "code",
   "execution_count": 10,
   "metadata": {},
   "outputs": [
    {
     "name": "stdout",
     "output_type": "stream",
     "text": [
      "                 track_id                                         track_name  \\\n",
      "0  6f807x0ima9a1j3VPbc7VN  I Don't Care (with Justin Bieber) - Loud Luxur...   \n",
      "1  0r7CVbZTWZgbTCYdfa2P31                    Memories - Dillon Francis Remix   \n",
      "2  1z1Hg7Vb0AhHDiEmnDE79l                    All the Time - Don Diablo Remix   \n",
      "3  75FpbthrwQmzHlBJLuGdC7                  Call You Mine - Keanu Silva Remix   \n",
      "4  1e8PAfcKUYoKkxPhrHqw4x            Someone You Loved - Future Humans Remix   \n",
      "\n",
      "       track_artist  track_popularity          track_album_id  \\\n",
      "0        Ed Sheeran                66  2oCs0DGTsRO98Gh5ZSl2Cx   \n",
      "1          Maroon 5                67  63rPSO264uRjW1X5E6cWv6   \n",
      "2      Zara Larsson                70  1HoSmj2eLcsrR0vE9gThr4   \n",
      "3  The Chainsmokers                60  1nqYsOef1yKKuGOVchbsk6   \n",
      "4     Lewis Capaldi                69  7m7vv9wlQ4i0LFuJiE2zsQ   \n",
      "\n",
      "                                    track_album_name track_album_release_date  \\\n",
      "0  I Don't Care (with Justin Bieber) [Loud Luxury...               2019-06-14   \n",
      "1                    Memories (Dillon Francis Remix)               2019-12-13   \n",
      "2                    All the Time (Don Diablo Remix)               2019-07-05   \n",
      "3                        Call You Mine - The Remixes               2019-07-19   \n",
      "4            Someone You Loved (Future Humans Remix)               2019-03-05   \n",
      "\n",
      "  playlist_name             playlist_id playlist_genre  ... key  loudness  \\\n",
      "0     Pop Remix  37i9dQZF1DXcZDD7cfEKhW            pop  ...   6    -2.634   \n",
      "1     Pop Remix  37i9dQZF1DXcZDD7cfEKhW            pop  ...  11    -4.969   \n",
      "2     Pop Remix  37i9dQZF1DXcZDD7cfEKhW            pop  ...   1    -3.432   \n",
      "3     Pop Remix  37i9dQZF1DXcZDD7cfEKhW            pop  ...   7    -3.778   \n",
      "4     Pop Remix  37i9dQZF1DXcZDD7cfEKhW            pop  ...   1    -4.672   \n",
      "\n",
      "   mode  speechiness  acousticness  instrumentalness  liveness  valence  \\\n",
      "0     1       0.0583        0.1020          0.000000    0.0653    0.518   \n",
      "1     1       0.0373        0.0724          0.004210    0.3570    0.693   \n",
      "2     0       0.0742        0.0794          0.000023    0.1100    0.613   \n",
      "3     1       0.1020        0.0287          0.000009    0.2040    0.277   \n",
      "4     1       0.0359        0.0803          0.000000    0.0833    0.725   \n",
      "\n",
      "     tempo  duration_ms  \n",
      "0  122.036       194754  \n",
      "1   99.972       162600  \n",
      "2  124.008       176616  \n",
      "3  121.956       169093  \n",
      "4  123.976       189052  \n",
      "\n",
      "[5 rows x 23 columns]\n"
     ]
    }
   ],
   "source": [
    "file_path = \"spotify_songs.csv\"\n",
    "df = pd.read_csv(file_path)\n",
    "print(df.head())"
   ]
  },
  {
   "cell_type": "code",
   "execution_count": 11,
   "metadata": {},
   "outputs": [
    {
     "data": {
      "text/plain": [
       "array(['pop', 'rap', 'rock', 'latin', 'r&b', 'edm'], dtype=object)"
      ]
     },
     "execution_count": 11,
     "metadata": {},
     "output_type": "execute_result"
    }
   ],
   "source": [
    "df[\"playlist_genre\"].unique()"
   ]
  },
  {
   "cell_type": "code",
   "execution_count": 12,
   "metadata": {},
   "outputs": [
    {
     "data": {
      "text/plain": [
       "(5507, 23)"
      ]
     },
     "execution_count": 12,
     "metadata": {},
     "output_type": "execute_result"
    }
   ],
   "source": [
    "has_pop = df[\"playlist_genre\"] == \"pop\"\n",
    "pop = df[has_pop]\n",
    "\n",
    "pop.shape"
   ]
  },
  {
   "cell_type": "code",
   "execution_count": 14,
   "metadata": {},
   "outputs": [],
   "source": [
    "relevant_cols = [\"track_popularity\", \"danceability\"]\n",
    "\n",
    "df_dance = pop[relevant_cols]\n",
    "\n",
    "df_dance = df.groupby(\"danceability\")[\"track_popularity\"].mean().reset_index()"
   ]
  },
  {
   "cell_type": "code",
   "execution_count": 16,
   "metadata": {},
   "outputs": [
    {
     "name": "stderr",
     "output_type": "stream",
     "text": [
      "/var/folders/8y/z54f8_6n19qfj1pkdc_jwtjw0000gq/T/ipykernel_14005/4219089900.py:1: UserWarning: Ignoring `palette` because no `hue` variable has been assigned.\n",
      "  sns.scatterplot(\n"
     ]
    },
    {
     "data": {
      "text/plain": [
       "<Axes: xlabel='danceability', ylabel='danceability'>"
      ]
     },
     "execution_count": 16,
     "metadata": {},
     "output_type": "execute_result"
    },
    {
     "data": {
      "image/png": "[encoded data removed]",
      "text/plain": [
       "<Figure size 640x480 with 1 Axes>"
      ]
     },
     "metadata": {},
     "output_type": "display_data"
    }
   ],
   "source": [
    "sns.scatterplot(\n",
    "    x=df_dance[\"danceability\"],\n",
    "    y=df_dance[\"danceability\"],\n",
    "    palette=\"coolwarm\",\n",
    ")"
   ]
  }
 ],
 "metadata": {
  "kernelspec": {
   "display_name": ".venv",
   "language": "python",
   "name": "python3"
  },
  "language_info": {
   "codemirror_mode": {
    "name": "ipython",
    "version": 3
   },
   "file_extension": ".py",
   "mimetype": "text/x-python",
   "name": "python",
   "nbconvert_exporter": "python",
   "pygments_lexer": "ipython3",
   "version": "3.12.3"
  }
 },
 "nbformat": 4,
 "nbformat_minor": 2
}
