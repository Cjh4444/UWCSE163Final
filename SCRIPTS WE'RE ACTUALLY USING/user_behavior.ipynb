{
 "cells": [
  {
   "cell_type": "markdown",
   "metadata": {},
   "source": [
    "RESEARCH QUESTION 2 <br>\n",
    "\n",
    "How does the age of a listener affect their preferences in music genres?"
   ]
  },
  {
   "cell_type": "code",
   "execution_count": 3,
   "metadata": {},
   "outputs": [],
   "source": [
    "import pandas as pd\n",
    "import seaborn as sns\n",
    "import matplotlib.pyplot as plt"
   ]
  },
  {
   "cell_type": "code",
   "execution_count": 5,
   "metadata": {},
   "outputs": [],
   "source": [
    "beta_excel_file = pd.read_excel(\"data/user_questions.xlsx\")\n",
    "chad_csv = beta_excel_file.to_csv(\"data/user_questions.csv\")"
   ]
  },
  {
   "cell_type": "code",
   "execution_count": 6,
   "metadata": {},
   "outputs": [
    {
     "data": {
      "text/plain": [
       "Index(['Age', 'Gender', 'spotify_usage_period', 'spotify_listening_device',\n",
       "       'spotify_subscription_plan', 'premium_sub_willingness',\n",
       "       'preffered_premium_plan', 'preferred_listening_content',\n",
       "       'fav_music_genre', 'music_time_slot', 'music_Influencial_mood',\n",
       "       'music_lis_frequency', 'music_expl_method', 'music_recc_rating',\n",
       "       'pod_lis_frequency', 'fav_pod_genre', 'preffered_pod_format',\n",
       "       'pod_host_preference', 'preffered_pod_duration',\n",
       "       'pod_variety_satisfaction'],\n",
       "      dtype='object')"
      ]
     },
     "execution_count": 6,
     "metadata": {},
     "output_type": "execute_result"
    }
   ],
   "source": [
    "df = pd.read_csv(\"data/user_questions.csv\")\n",
    "df = df.drop(df.columns[0], axis=1)\n",
    "df.columns"
   ]
  },
  {
   "cell_type": "code",
   "execution_count": 11,
   "metadata": {},
   "outputs": [
    {
     "ename": "AttributeError",
     "evalue": "'Axes' object has no attribute 'xlabel'",
     "output_type": "error",
     "traceback": [
      "\u001b[0;31m---------------------------------------------------------------------------\u001b[0m",
      "\u001b[0;31mAttributeError\u001b[0m                            Traceback (most recent call last)",
      "Cell \u001b[0;32mIn[11], line 24\u001b[0m\n\u001b[1;32m     21\u001b[0m axis\u001b[38;5;241m.\u001b[39mbar(genre_counts\u001b[38;5;241m.\u001b[39mindex, genre_counts\u001b[38;5;241m.\u001b[39mvalues)\n\u001b[1;32m     23\u001b[0m \u001b[38;5;66;03m# Adding labels and title\u001b[39;00m\n\u001b[0;32m---> 24\u001b[0m \u001b[43maxis\u001b[49m\u001b[38;5;241;43m.\u001b[39;49m\u001b[43mxlabel\u001b[49m(\u001b[38;5;124m\"\u001b[39m\u001b[38;5;124mFavorite Music Genre\u001b[39m\u001b[38;5;124m\"\u001b[39m)\n\u001b[1;32m     25\u001b[0m axis\u001b[38;5;241m.\u001b[39mylabel(\u001b[38;5;124m\"\u001b[39m\u001b[38;5;124mCount\u001b[39m\u001b[38;5;124m\"\u001b[39m)\n\u001b[1;32m     26\u001b[0m axis\u001b[38;5;241m.\u001b[39mtitle(\u001b[38;5;124mf\u001b[39m\u001b[38;5;124m\"\u001b[39m\u001b[38;5;132;01m{\u001b[39;00m\u001b[38;5;124m\"\u001b[39m\u001b[38;5;124mDistribution of Favorite Music Genre of \u001b[39m\u001b[38;5;124m\"\u001b[39m\u001b[38;5;250m \u001b[39m\u001b[38;5;241m+\u001b[39m\u001b[38;5;250m \u001b[39mage\u001b[38;5;132;01m}\u001b[39;00m\u001b[38;5;124m\"\u001b[39m)\n",
      "\u001b[0;31mAttributeError\u001b[0m: 'Axes' object has no attribute 'xlabel'"
     ]
    },
    {
     "data": {
      "image/png": "[encoded data removed]",
      "text/plain": [
       "<Figure size 640x480 with 3 Axes>"
      ]
     },
     "metadata": {},
     "output_type": "display_data"
    }
   ],
   "source": [
    "important_cols = [\"Age\", \"fav_music_genre\"]\n",
    "important_data = df[important_cols]\n",
    "\n",
    "important_age_groups = [\"12-20\", \"20-35\", \"35-60\"]\n",
    "age_group_filter = important_data[\"Age\"].isin(important_age_groups)\n",
    "important_data = important_data[age_group_filter]\n",
    "\n",
    "ages = important_data[\"Age\"].unique()\n",
    "\n",
    "fig, [ax1, ax2, ax3] = plt.subplots(ncols=3)\n",
    "axes = [ax1, ax2, ax3]\n",
    "\n",
    "for age, axis in zip(ages, axes):\n",
    "    is_age = important_data[\"Age\"] == age\n",
    "    age_df = important_data[is_age]\n",
    "    total_counts = age_df.count()\n",
    "\n",
    "    genre_counts = age_df[\"fav_music_genre\"].value_counts()\n",
    "\n",
    "    # Plotting as a bar chart\n",
    "    axis.bar(genre_counts.index, genre_counts.values)\n",
    "\n",
    "    # Adding labels and title\n",
    "    axis.set_xlabel(\"Favorite Music Genre\")\n",
    "    axis.set_ylabel(\"Count\")\n",
    "    axis.set_title(f\"Distribution of Favorite Music Genre of {age}\")\n",
    "\n",
    "    print(total_counts)\n",
    "\n",
    "    # Rotating x-axis labels for better readability (optional)\n",
    "    axis.tick_params(axis=\"x\", rotation=90)\n",
    "\n",
    "    # Display the plot\n",
    "    axis.show()"
   ]
  }
 ],
 "metadata": {
  "kernelspec": {
   "display_name": ".venv",
   "language": "python",
   "name": "python3"
  },
  "language_info": {
   "codemirror_mode": {
    "name": "ipython",
    "version": 3
   },
   "file_extension": ".py",
   "mimetype": "text/x-python",
   "name": "python",
   "nbconvert_exporter": "python",
   "pygments_lexer": "ipython3",
   "version": "3.12.3"
  }
 },
 "nbformat": 4,
 "nbformat_minor": 2
}
