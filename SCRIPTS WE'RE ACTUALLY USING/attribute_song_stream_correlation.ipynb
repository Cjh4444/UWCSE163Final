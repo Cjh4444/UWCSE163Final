{
 "cells": [
  {
   "cell_type": "markdown",
   "metadata": {},
   "source": [
    "RESEARCH QUESTION 1 <br>\n",
    "\n",
    "Is there a correlation between certain attributes and song popularity?"
   ]
  },
  {
   "cell_type": "code",
   "execution_count": 2,
   "metadata": {},
   "outputs": [],
   "source": [
    "import pandas as pd\n",
    "import matplotlib.pyplot as plt\n",
    "import seaborn as sns"
   ]
  },
  {
   "cell_type": "code",
   "execution_count": 3,
   "metadata": {},
   "outputs": [
    {
     "data": {
      "text/plain": [
       "Index(['Track Name', 'Artist', 'Streams', 'Genre'], dtype='object')"
      ]
     },
     "execution_count": 3,
     "metadata": {},
     "output_type": "execute_result"
    }
   ],
   "source": [
    "from ast import literal_eval\n",
    "\n",
    "main_song_df = pd.read_csv(\"data/spotify_songs.csv\")\n",
    "main_song_df = main_song_df.drop_duplicates(subset=\"track_id\")\n",
    "main_song_df = main_song_df.dropna()\n",
    "\n",
    "stream_df = pd.read_csv(\"data/stream_data.csv\", sep=\"#\")\n",
    "stream_df = stream_df.drop(columns=[\"Date\", \"Position\"])\n",
    "\n",
    "stream_df = stream_df.dropna()\n",
    "\n",
    "stream_df[\"Genre\"] = stream_df[\"Genre\"].apply(literal_eval)\n",
    "\n",
    "# Group by 'Track Name' and 'Artist', sum the 'Streams', and aggregate genres\n",
    "stream_grouped = (\n",
    "    stream_df.groupby([\"Track Name\", \"Artist\"])\n",
    "    .agg(\n",
    "        {\n",
    "            \"Streams\": \"sum\",\n",
    "            \"Genre\": lambda x: list(\n",
    "                set([genre for sublist in x for genre in sublist])\n",
    "            ),\n",
    "        }\n",
    "    )\n",
    "    .reset_index()\n",
    ")\n",
    "\n",
    "# print(stream_grouped)\n",
    "stream_grouped.columns"
   ]
  },
  {
   "cell_type": "code",
   "execution_count": 4,
   "metadata": {},
   "outputs": [
    {
     "data": {
      "text/html": [
       "<div>\n",
       "<style scoped>\n",
       "    .dataframe tbody tr th:only-of-type {\n",
       "        vertical-align: middle;\n",
       "    }\n",
       "\n",
       "    .dataframe tbody tr th {\n",
       "        vertical-align: top;\n",
       "    }\n",
       "\n",
       "    .dataframe thead th {\n",
       "        text-align: right;\n",
       "    }\n",
       "</style>\n",
       "<table border=\"1\" class=\"dataframe\">\n",
       "  <thead>\n",
       "    <tr style=\"text-align: right;\">\n",
       "      <th></th>\n",
       "      <th>Track Name</th>\n",
       "      <th>Artist</th>\n",
       "      <th>Streams</th>\n",
       "      <th>Genre</th>\n",
       "    </tr>\n",
       "  </thead>\n",
       "  <tbody>\n",
       "    <tr>\n",
       "      <th>4173</th>\n",
       "      <td>Shape of You</td>\n",
       "      <td>Ed Sheeran</td>\n",
       "      <td>2736191812</td>\n",
       "      <td>[pop, uk pop]</td>\n",
       "    </tr>\n",
       "    <tr>\n",
       "      <th>643</th>\n",
       "      <td>Blinding Lights</td>\n",
       "      <td>The Weeknd</td>\n",
       "      <td>2198561599</td>\n",
       "      <td>[canadian pop, canadian contemporary r&amp;b, pop]</td>\n",
       "    </tr>\n",
       "    <tr>\n",
       "      <th>1105</th>\n",
       "      <td>Dance Monkey</td>\n",
       "      <td>Tones And I</td>\n",
       "      <td>2157954402</td>\n",
       "      <td>[australian pop, pop]</td>\n",
       "    </tr>\n",
       "    <tr>\n",
       "      <th>4358</th>\n",
       "      <td>Someone You Loved</td>\n",
       "      <td>Lewis Capaldi</td>\n",
       "      <td>1858199748</td>\n",
       "      <td>[pop, uk pop]</td>\n",
       "    </tr>\n",
       "    <tr>\n",
       "      <th>4511</th>\n",
       "      <td>Sunflower - Spider-Man: Into the Spider-Verse</td>\n",
       "      <td>Post Malone</td>\n",
       "      <td>1851044231</td>\n",
       "      <td>[rap, melodic rap, dfw rap]</td>\n",
       "    </tr>\n",
       "    <tr>\n",
       "      <th>...</th>\n",
       "      <td>...</td>\n",
       "      <td>...</td>\n",
       "      <td>...</td>\n",
       "      <td>...</td>\n",
       "    </tr>\n",
       "    <tr>\n",
       "      <th>4427</th>\n",
       "      <td>Stay (feat. Maty Noyes)</td>\n",
       "      <td>Kygo</td>\n",
       "      <td>347597</td>\n",
       "      <td>[edm, tropical house, pop dance, pop]</td>\n",
       "    </tr>\n",
       "    <tr>\n",
       "      <th>3734</th>\n",
       "      <td>Purple Lamborghini (with Rick Ross)</td>\n",
       "      <td>Skrillex</td>\n",
       "      <td>343807</td>\n",
       "      <td>[edm, pop dance, complextro, brostep, electro]</td>\n",
       "    </tr>\n",
       "    <tr>\n",
       "      <th>3552</th>\n",
       "      <td>Paper Planes</td>\n",
       "      <td>M.I.A.</td>\n",
       "      <td>341003</td>\n",
       "      <td>[new rave, indietronica, escape room, dance pop]</td>\n",
       "    </tr>\n",
       "    <tr>\n",
       "      <th>4490</th>\n",
       "      <td>Sugar</td>\n",
       "      <td>Maroon 5</td>\n",
       "      <td>335115</td>\n",
       "      <td>[pop, pop rock]</td>\n",
       "    </tr>\n",
       "    <tr>\n",
       "      <th>3238</th>\n",
       "      <td>Ni**as In Paris</td>\n",
       "      <td>JAY-Z</td>\n",
       "      <td>325951</td>\n",
       "      <td>[rap, east coast hip hop, pop rap, hip hop]</td>\n",
       "    </tr>\n",
       "  </tbody>\n",
       "</table>\n",
       "<p>5674 rows × 4 columns</p>\n",
       "</div>"
      ],
      "text/plain": [
       "                                         Track Name         Artist  \\\n",
       "4173                                   Shape of You     Ed Sheeran   \n",
       "643                                 Blinding Lights     The Weeknd   \n",
       "1105                                   Dance Monkey    Tones And I   \n",
       "4358                              Someone You Loved  Lewis Capaldi   \n",
       "4511  Sunflower - Spider-Man: Into the Spider-Verse    Post Malone   \n",
       "...                                             ...            ...   \n",
       "4427                        Stay (feat. Maty Noyes)           Kygo   \n",
       "3734            Purple Lamborghini (with Rick Ross)       Skrillex   \n",
       "3552                                   Paper Planes         M.I.A.   \n",
       "4490                                          Sugar       Maroon 5   \n",
       "3238                                Ni**as In Paris          JAY-Z   \n",
       "\n",
       "         Streams                                             Genre  \n",
       "4173  2736191812                                     [pop, uk pop]  \n",
       "643   2198561599    [canadian pop, canadian contemporary r&b, pop]  \n",
       "1105  2157954402                             [australian pop, pop]  \n",
       "4358  1858199748                                     [pop, uk pop]  \n",
       "4511  1851044231                       [rap, melodic rap, dfw rap]  \n",
       "...          ...                                               ...  \n",
       "4427      347597             [edm, tropical house, pop dance, pop]  \n",
       "3734      343807    [edm, pop dance, complextro, brostep, electro]  \n",
       "3552      341003  [new rave, indietronica, escape room, dance pop]  \n",
       "4490      335115                                   [pop, pop rock]  \n",
       "3238      325951       [rap, east coast hip hop, pop rap, hip hop]  \n",
       "\n",
       "[5674 rows x 4 columns]"
      ]
     },
     "execution_count": 4,
     "metadata": {},
     "output_type": "execute_result"
    }
   ],
   "source": [
    "sorted_stream_group = stream_grouped.sort_values(\"Streams\", ascending=False)\n",
    "\n",
    "sorted_stream_group"
   ]
  },
  {
   "cell_type": "code",
   "execution_count": 6,
   "metadata": {},
   "outputs": [
    {
     "data": {
      "text/plain": [
       "Index(['track_id', 'track_name', 'track_artist', 'track_popularity',\n",
       "       'track_album_id', 'track_album_name', 'track_album_release_date',\n",
       "       'playlist_name', 'playlist_id', 'playlist_genre', 'playlist_subgenre',\n",
       "       'danceability', 'energy', 'key', 'loudness', 'mode', 'speechiness',\n",
       "       'acousticness', 'instrumentalness', 'liveness', 'valence', 'tempo',\n",
       "       'duration_ms', 'Track Name', 'Artist', 'Streams', 'Genre'],\n",
       "      dtype='object')"
      ]
     },
     "execution_count": 6,
     "metadata": {},
     "output_type": "execute_result"
    }
   ],
   "source": [
    "merged_df = main_song_df.merge(\n",
    "    sorted_stream_group,\n",
    "    left_on=[\"track_name\", \"track_artist\"],\n",
    "    right_on=[\"Track Name\", \"Artist\"],\n",
    ")\n",
    "\n",
    "merged_df.columns"
   ]
  },
  {
   "cell_type": "code",
   "execution_count": 5,
   "metadata": {},
   "outputs": [],
   "source": [
    "is_pop = merged_df[\"playlist_genre\"] == \"pop\"\n",
    "\n",
    "merged_df = merged_df[is_pop]"
   ]
  },
  {
   "cell_type": "code",
   "execution_count": 6,
   "metadata": {},
   "outputs": [],
   "source": [
    "relevant_cols = [\n",
    "    \"danceability\",\n",
    "    \"energy\",\n",
    "    \"loudness\",\n",
    "    \"speechiness\",\n",
    "    \"acousticness\",\n",
    "    \"instrumentalness\",\n",
    "    \"liveness\",\n",
    "    \"valence\",\n",
    "    \"tempo\",\n",
    "    \"duration_ms\",\n",
    "    \"Streams\",\n",
    "]\n",
    "\n",
    "important_df = merged_df[relevant_cols]"
   ]
  },
  {
   "cell_type": "code",
   "execution_count": 7,
   "metadata": {},
   "outputs": [
    {
     "name": "stdout",
     "output_type": "stream",
     "text": [
      "danceability        0.160944\n",
      "energy             -0.127474\n",
      "loudness            0.000708\n",
      "speechiness         0.054050\n",
      "acousticness        0.109384\n",
      "instrumentalness   -0.018900\n",
      "liveness           -0.078453\n",
      "valence             0.057598\n",
      "tempo              -0.037371\n",
      "duration_ms        -0.090750\n",
      "Name: Streams, dtype: float64\n"
     ]
    },
    {
     "name": "stderr",
     "output_type": "stream",
     "text": [
      "/var/folders/8y/z54f8_6n19qfj1pkdc_jwtjw0000gq/T/ipykernel_23782/159858699.py:11: FutureWarning: \n",
      "\n",
      "Passing `palette` without assigning `hue` is deprecated and will be removed in v0.14.0. Assign the `x` variable to `hue` and set `legend=False` for the same effect.\n",
      "\n",
      "  sns.barplot(x=popularity_corr.index, y=popularity_corr.values, palette=palette)\n"
     ]
    },
    {
     "data": {
      "image/png": "[encoded data removed]",
      "text/plain": [
       "<Figure size 1000x600 with 1 Axes>"
      ]
     },
     "metadata": {},
     "output_type": "display_data"
    }
   ],
   "source": [
    "corr_matrix = important_df.corr()\n",
    "\n",
    "popularity_corr = corr_matrix[\"Streams\"].drop(\"Streams\")\n",
    "\n",
    "print(popularity_corr)\n",
    "\n",
    "plt.figure(figsize=(10, 6))\n",
    "palette = [\n",
    "    \"#D98672\" if value < 0 else \"#859FE5\" for value in popularity_corr.values\n",
    "]\n",
    "sns.barplot(x=popularity_corr.index, y=popularity_corr.values, palette=palette)\n",
    "plt.xticks(rotation=90)\n",
    "plt.xlabel(\"Factors\")\n",
    "plt.ylabel(\"Correlation with # of Streams\")\n",
    "plt.title(\"Correlation of Factors with # of Streams\")\n",
    "plt.show()"
   ]
  }
 ],
 "metadata": {
  "kernelspec": {
   "display_name": ".venv",
   "language": "python",
   "name": "python3"
  },
  "language_info": {
   "codemirror_mode": {
    "name": "ipython",
    "version": 3
   },
   "file_extension": ".py",
   "mimetype": "text/x-python",
   "name": "python",
   "nbconvert_exporter": "python",
   "pygments_lexer": "ipython3",
   "version": "3.12.4"
  }
 },
 "nbformat": 4,
 "nbformat_minor": 2
}
